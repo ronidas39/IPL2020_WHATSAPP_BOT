{
 "cells": [
  {
   "cell_type": "code",
   "execution_count": 34,
   "metadata": {},
   "outputs": [],
   "source": [
    "from pycricbuzz import Cricbuzz"
   ]
  },
  {
   "cell_type": "code",
   "execution_count": 35,
   "metadata": {},
   "outputs": [],
   "source": [
    "c=Cricbuzz()\n",
    "matches=c.matches()"
   ]
  },
  {
   "cell_type": "code",
   "execution_count": 38,
   "metadata": {},
   "outputs": [],
   "source": [
    "match_data=[]\n",
    "for match in matches:\n",
    "    if match[\"srs\"]==\"Indian Premier League 2020\" and not(match[\"mchstate\"]==\"preview\"):\n",
    "        match_data.append(match)"
   ]
  },
  {
   "cell_type": "code",
   "execution_count": 41,
   "metadata": {},
   "outputs": [],
   "source": [
    "if (len(match_data)==1):\n",
    "    match_id=match_data[0][\"id\"]"
   ]
  },
  {
   "cell_type": "code",
   "execution_count": 42,
   "metadata": {},
   "outputs": [
    {
     "data": {
      "text/plain": [
       "'30369'"
      ]
     },
     "execution_count": 42,
     "metadata": {},
     "output_type": "execute_result"
    }
   ],
   "source": [
    "match_id"
   ]
  },
  {
   "cell_type": "code",
   "execution_count": 45,
   "metadata": {},
   "outputs": [],
   "source": [
    "livescore=c.livescore(mid=\"30369\")"
   ]
  },
  {
   "cell_type": "code",
   "execution_count": 47,
   "metadata": {},
   "outputs": [],
   "source": [
    "import json"
   ]
  },
  {
   "cell_type": "code",
   "execution_count": 48,
   "metadata": {},
   "outputs": [],
   "source": [
    "livescore=json.dumps(livescore)"
   ]
  },
  {
   "cell_type": "code",
   "execution_count": 49,
   "metadata": {},
   "outputs": [
    {
     "data": {
      "text/plain": [
       "'{\"batting\": {\"team\": \"Kings XI Punjab\", \"score\": [{\"inning_num\": \"1\", \"runs\": \"66\", \"wickets\": \"0\", \"overs\": \"6.5\", \"declare\": null}], \"batsman\": [{\"name\": \"Rahul\", \"runs\": \"30\", \"balls\": \"21\", \"fours\": \"4\", \"six\": \"0\"}, {\"name\": \"Mayank Agarwal\", \"runs\": \"31\", \"balls\": \"21\", \"fours\": \"3\", \"six\": \"2\"}]}, \"bowling\": {\"team\": \"Rajasthan Royals\", \"score\": [], \"bowler\": [{\"name\": \"Shreyas Gopal\", \"overs\": \"0.5\", \"maidens\": \"0\", \"runs\": \"6\", \"wickets\": \"0\"}]}}'"
      ]
     },
     "execution_count": 49,
     "metadata": {},
     "output_type": "execute_result"
    }
   ],
   "source": [
    "livescore"
   ]
  },
  {
   "cell_type": "code",
   "execution_count": 52,
   "metadata": {},
   "outputs": [],
   "source": [
    "fullscore=c.scorecard(mid=\"30369\")\n",
    "fullscore=json.dumps(fullscore)"
   ]
  },
  {
   "cell_type": "code",
   "execution_count": 53,
   "metadata": {},
   "outputs": [
    {
     "data": {
      "text/plain": [
       "'{\"scorecard\": [{\"batteam\": \"Kings XI Punjab\", \"runs\": \"108\", \"wickets\": \"0\", \"overs\": \"9.3\", \"inng_num\": \"1\", \"extras\": {\"total\": \"5\", \"byes\": \"1\", \"lbyes\": \"0\", \"wides\": \"3\", \"nballs\": \"1\", \"penalty\": \"0\"}, \"batcard\": [{\"name\": \"Rahul\", \"runs\": \"35\", \"balls\": \"27\", \"fours\": \"4\", \"six\": \"0\", \"dismissal\": \"batting\"}, {\"name\": \"Agarwal\", \"runs\": \"68\", \"balls\": \"31\", \"fours\": \"5\", \"six\": \"6\", \"dismissal\": \"batting\"}], \"bowlteam\": \"Rajasthan Royals\", \"bowlcard\": [{\"name\": \"Unadkat\", \"overs\": \"2\", \"maidens\": \"0\", \"runs\": \"20\", \"wickets\": \"0\", \"wides\": \"3\", \"nballs\": \"0\"}, {\"name\": \"Rajpoot\", \"overs\": \"2\", \"maidens\": \"0\", \"runs\": \"24\", \"wickets\": \"0\", \"wides\": \"0\", \"nballs\": \"1\"}, {\"name\": \"Jofra Archer\", \"overs\": \"2\", \"maidens\": \"0\", \"runs\": \"15\", \"wickets\": \"0\", \"wides\": \"0\", \"nballs\": \"0\"}, {\"name\": \"Shreyas Gopal\", \"overs\": \"2\", \"maidens\": \"0\", \"runs\": \"23\", \"wickets\": \"0\", \"wides\": \"0\", \"nballs\": \"0\"}, {\"name\": \"Rahul Tewatia\", \"overs\": \"1\", \"maidens\": \"0\", \"runs\": \"19\", \"wickets\": \"0\", \"wides\": \"0\", \"nballs\": \"0\"}, {\"name\": \"Tom Curran\", \"overs\": \"0.3\", \"maidens\": \"0\", \"runs\": \"6\", \"wickets\": \"0\", \"wides\": \"0\", \"nballs\": \"0\"}], \"fall_wickets\": []}]}'"
      ]
     },
     "execution_count": 53,
     "metadata": {},
     "output_type": "execute_result"
    }
   ],
   "source": [
    "fullscore"
   ]
  },
  {
   "cell_type": "code",
   "execution_count": 54,
   "metadata": {},
   "outputs": [],
   "source": [
    "info=c.matchinfo(mid=\"30369\")"
   ]
  },
  {
   "cell_type": "code",
   "execution_count": 55,
   "metadata": {},
   "outputs": [
    {
     "data": {
      "text/plain": [
       "{'id': '30369',\n",
       " 'srs': 'Indian Premier League 2020',\n",
       " 'mnum': '9th Match',\n",
       " 'type': 'T20',\n",
       " 'mchstate': 'inprogress',\n",
       " 'status': 'RR opt to bowl',\n",
       " 'venue_name': 'Sharjah Cricket Stadium',\n",
       " 'venue_location': 'Sharjah, United Arab Emirates',\n",
       " 'toss': 'Rajasthan Royals elect to bowl',\n",
       " 'official': {'umpire1': {'id': '5398',\n",
       "   'name': 'Richard Illingworth',\n",
       "   'country': 'ENG'},\n",
       "  'umpire2': {'id': '8914',\n",
       "   'name': 'Krishnamachari Srinivasan',\n",
       "   'country': 'IND'},\n",
       "  'umpire3': {'id': '8613',\n",
       "   'name': 'Chettithody Shamshuddin',\n",
       "   'country': 'IND'},\n",
       "  'referee': {'id': '8968',\n",
       "   'name': 'Vengalil Narayan Kutty',\n",
       "   'country': 'IND'}},\n",
       " 'start_time': '2020-09-27 19:30:00',\n",
       " 'team1': {'name': 'Rajasthan Royals',\n",
       "  'squad': ['Smith',\n",
       "   'Buttler',\n",
       "   'Samson',\n",
       "   'Uthappa',\n",
       "   'Riyan Parag',\n",
       "   'Rahul Tewatia',\n",
       "   'Tom Curran',\n",
       "   'Jofra Archer',\n",
       "   'Shreyas Gopal',\n",
       "   'Rajpoot',\n",
       "   'Unadkat'],\n",
       "  'squad_bench': ['Miller',\n",
       "   'Aaron',\n",
       "   'Aniruddha Joshi',\n",
       "   'Vohra',\n",
       "   'Tye',\n",
       "   'Shashank Singh',\n",
       "   'Lomror',\n",
       "   'Thomas',\n",
       "   'Markande',\n",
       "   'Anuj Rawat',\n",
       "   'Kartik Tyagi',\n",
       "   'Akash Singh',\n",
       "   'Jaiswal']},\n",
       " 'team2': {'name': 'Kings XI Punjab',\n",
       "  'squad': ['Agarwal',\n",
       "   'Rahul',\n",
       "   'Pooran',\n",
       "   'Maxwell',\n",
       "   'Nair',\n",
       "   'Neesham',\n",
       "   'Sarfaraz Khan',\n",
       "   'Murugan Ashwin',\n",
       "   'Shami',\n",
       "   'Cottrell',\n",
       "   'Ravi Bishnoi'],\n",
       "  'squad_bench': ['Gayle',\n",
       "   'Mandeep',\n",
       "   'Jordan',\n",
       "   'Gowtham',\n",
       "   'Hooda',\n",
       "   'Viljoen',\n",
       "   'J Suchith',\n",
       "   'Ishan Porel',\n",
       "   'Mujeeb',\n",
       "   'Dhillon',\n",
       "   'Darshan Nalkande',\n",
       "   'Arshdeep Singh',\n",
       "   'Simran Singh',\n",
       "   'Harpreet Brar']}}"
      ]
     },
     "execution_count": 55,
     "metadata": {},
     "output_type": "execute_result"
    }
   ],
   "source": [
    "info"
   ]
  },
  {
   "cell_type": "code",
   "execution_count": null,
   "metadata": {},
   "outputs": [],
   "source": []
  }
 ],
 "metadata": {
  "kernelspec": {
   "display_name": "Python 3",
   "language": "python",
   "name": "python3"
  },
  "language_info": {
   "codemirror_mode": {
    "name": "ipython",
    "version": 3
   },
   "file_extension": ".py",
   "mimetype": "text/x-python",
   "name": "python",
   "nbconvert_exporter": "python",
   "pygments_lexer": "ipython3",
   "version": "3.7.6"
  }
 },
 "nbformat": 4,
 "nbformat_minor": 4
}
